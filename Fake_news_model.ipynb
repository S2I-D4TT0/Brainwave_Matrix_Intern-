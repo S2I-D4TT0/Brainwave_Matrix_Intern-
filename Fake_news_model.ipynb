{
 "cells": [
  {
   "cell_type": "code",
   "execution_count": null,
   "id": "9a6c6ce7",
   "metadata": {},
   "outputs": [],
   "source": [
    "import pandas as pd\n",
    "file_path = 'news.csv'\n",
    "true_df=pd.read_csv('True.csv')\n",
    "true_df.head()\n",
    "fake_df=pd.read_csv('Fake.csv')\n",
    "fake_df.head()\n",
    "import os\n",
    "\n",
    "print(os.path.isfile('true.csv'))\n",
    "print(os.path.isfile('fake.csv'))\n",
    "\n"
   ]
  },
  {
   "cell_type": "code",
   "execution_count": null,
   "id": "78fe6013",
   "metadata": {},
   "outputs": [],
   "source": [
    "# Add labels\n",
    "true_df['label'] = 1\n",
    "fake_df['label'] = 0\n",
    "\n",
    "# Combine the datasets\n",
    "data = pd.concat([true_df, fake_df], axis=0)\n",
    "print(data.head())\n",
    "#starting info"
   ]
  },
  {
   "cell_type": "code",
   "execution_count": null,
   "id": "a8227e52",
   "metadata": {},
   "outputs": [],
   "source": [
    "data.tail()\n",
    "#ending info"
   ]
  },
  {
   "cell_type": "code",
   "execution_count": null,
   "id": "1aa0ef10",
   "metadata": {},
   "outputs": [],
   "source": [
    "#checking if  any null values are present\n",
    "data.isnull().sum()"
   ]
  },
  {
   "cell_type": "code",
   "execution_count": null,
   "id": "acde0067",
   "metadata": {},
   "outputs": [],
   "source": [
    "#some data pre-processing and feature selection\n",
    "data=data.drop(['title','subject','date'],axis=1)"
   ]
  },
  {
   "cell_type": "code",
   "execution_count": null,
   "id": "616c6030",
   "metadata": {},
   "outputs": [],
   "source": [
    "data.head()"
   ]
  },
  {
   "cell_type": "code",
   "execution_count": null,
   "id": "6955af56",
   "metadata": {},
   "outputs": [],
   "source": [
    "data.tail()"
   ]
  },
  {
   "cell_type": "code",
   "execution_count": null,
   "id": "56c5e4de",
   "metadata": {},
   "outputs": [],
   "source": [
    "#As we observe there are continuous 1's and 0's so we have to random shuffle the concatenation of the dataset\n",
    "data=data.sample(frac=1).reset_index(drop=True)\n",
    "#reset index should be used for resetting the indexes\n"
   ]
  },
  {
   "cell_type": "code",
   "execution_count": null,
   "id": "a8ebb91d",
   "metadata": {},
   "outputs": [],
   "source": [
    "data.head()\n"
   ]
  },
  {
   "cell_type": "code",
   "execution_count": null,
   "id": "8274080c",
   "metadata": {},
   "outputs": [],
   "source": [
    "data.tail()"
   ]
  },
  {
   "cell_type": "code",
   "execution_count": null,
   "id": "40f4610a",
   "metadata": {},
   "outputs": [],
   "source": [
    "#Now Feature Extraction\n",
    "#Now Text should be converted to Numerical (Machine learns better)\n",
    "#hence they are converted into vectors(where we assign weights to terms)\n",
    "\n",
    "import re\n",
    "def wordopt(text):\n",
    "    #convert into lower case\n",
    "    text=text.lower()\n",
    "    #remove URLs\n",
    "    #basically it observes the pattern and replace with the empty string which was passed as second argument\n",
    "    #first argument was standard format for URL \n",
    "    text=re.sub(r'https?://\\S+|www\\.\\S+','',text)\n",
    "    \n",
    "    #remove digits\n",
    "    text=re.sub(r'\\d','',text)\n",
    "    #remove newline characters\n",
    "    text=re.sub(r'\\n',' ',text)\n",
    "    \n",
    "    #remove punctuation \n",
    "    text=re.sub(r'[^\\w\\s]','',text)\n",
    "    \n",
    "    #remove HTML Tags\n",
    "    text =re.sub(r'<.*?>','',text)\n",
    "    return text\n",
    "    "
   ]
  },
  {
   "cell_type": "code",
   "execution_count": null,
   "id": "a42c8ac5",
   "metadata": {},
   "outputs": [],
   "source": [
    "data['text']=data['text'].apply(wordopt)\n",
    "data['text']"
   ]
  },
  {
   "cell_type": "code",
   "execution_count": null,
   "id": "d2a741e6",
   "metadata": {},
   "outputs": [],
   "source": [
    "#now choosing variables\n",
    "x=data['text']\n",
    "y=data['label']\n",
    "#splitting the dataset\n",
    "from sklearn.model_selection import train_test_split\n",
    "x_train,x_test,y_train,y_test=train_test_split(x,y,test_size=0.3)\n",
    "x_test.shape\n",
    "#size of x_test\n"
   ]
  },
  {
   "cell_type": "code",
   "execution_count": null,
   "id": "8d700b6f",
   "metadata": {},
   "outputs": [],
   "source": [
    "#So we are now vectorizing and will get a matrix as output after vectorization function\n",
    "from sklearn.feature_extraction.text import TfidfVectorizer\n",
    "vectorization=TfidfVectorizer()\n",
    "xv_train=vectorization.fit_transform(x_train)\n",
    "#only transform on x_test\n",
    "xv_test=vectorization.transform(x_test)\n",
    "\n",
    "xv_train\n",
    "xv_test\n",
    "\n"
   ]
  },
  {
   "cell_type": "code",
   "execution_count": null,
   "id": "3162a040",
   "metadata": {},
   "outputs": [],
   "source": [
    "#Now we are training the dataset or making our model\n",
    "from sklearn.linear_model import LogisticRegression\n",
    "lr=LogisticRegression()\n",
    "#now fitting on our data to update the weights\n",
    "lr.fit(xv_train,y_train)"
   ]
  },
  {
   "cell_type": "code",
   "execution_count": null,
   "id": "a1efbc0a",
   "metadata": {},
   "outputs": [],
   "source": [
    "# Now make predictions on the transformed test data\n",
    "predin = lr.predict(xv_test)\n",
    "\n",
    "# Check the model's accuracy\n",
    "accuracy = lr.score(xv_test, y_test)\n",
    "print(\"Accuracy:\", accuracy)"
   ]
  },
  {
   "cell_type": "code",
   "execution_count": null,
   "id": "daa7f185",
   "metadata": {},
   "outputs": [],
   "source": [
    "print(classification_report(y_test,predin))"
   ]
  },
  {
   "cell_type": "code",
   "execution_count": null,
   "id": "e0cded63",
   "metadata": {},
   "outputs": [],
   "source": [
    "#We should also try some other classification models\n",
    "from sklearn.tree import DecisionTreeClassifier\n",
    "dc=DecisionTreeClassifier()\n",
    "dc.fit(xv_train,y_train)\n",
    "pre=dc.predict(xv_test)\n",
    "acc=dc.score(xv_test,y_test)\n",
    "print(acc)"
   ]
  },
  {
   "cell_type": "code",
   "execution_count": null,
   "id": "99218949",
   "metadata": {},
   "outputs": [],
   "source": [
    "print(classification_report(y_test,pre))"
   ]
  },
  {
   "cell_type": "code",
   "execution_count": null,
   "id": "6a38e36b",
   "metadata": {},
   "outputs": [],
   "source": [
    "#Trying RandomForest\n",
    "from sklearn.ensemble import RandomForestClassifier\n",
    "rc=RandomForestClassifier()\n",
    "rc.fit(xv_train,y_train)\n",
    "pre3=rc.predict(xv_test)\n",
    "acc3=rc.score(xv_test,y_test)\n",
    "print(acc3)"
   ]
  },
  {
   "cell_type": "code",
   "execution_count": null,
   "id": "1184e1f8",
   "metadata": {},
   "outputs": [],
   "source": [
    "print(classification_report(y_test,pre3))"
   ]
  },
  {
   "cell_type": "code",
   "execution_count": null,
   "id": "aabcd601",
   "metadata": {},
   "outputs": [],
   "source": [
    "#Trying another\n",
    "from sklearn.ensemble import GradientBoostingClassifier\n",
    "gbc=GradientBoostingClassifier()\n",
    "gbc.fit(xv_train,y_train)\n",
    "pre4=gbc.predict(xv_test)\n",
    "acc4=gbc.score(xv_test,y_test)\n",
    "print(acc4)\n"
   ]
  },
  {
   "cell_type": "code",
   "execution_count": null,
   "id": "9c32f637",
   "metadata": {},
   "outputs": [],
   "source": [
    "print(classification_report(y_test,pre4))"
   ]
  },
  {
   "cell_type": "code",
   "execution_count": null,
   "id": "91efee9b",
   "metadata": {},
   "outputs": [],
   "source": [
    "#Training with SVM \n",
    "from sklearn.svm import SVC\n",
    "svc=SVC()\n",
    "svc.fit(xv_train,y_train)\n",
    "pre5=svc.predict(xv_test)\n",
    "acc5=svc.score(xv_test,y_test)\n",
    "print(acc5)"
   ]
  },
  {
   "cell_type": "code",
   "execution_count": null,
   "id": "82cff88c",
   "metadata": {},
   "outputs": [],
   "source": [
    "print(classification_report(y_test,pre5))"
   ]
  }
 ],
 "metadata": {
  "kernelspec": {
   "display_name": "Python 3 (ipykernel)",
   "language": "python",
   "name": "python3"
  },
  "language_info": {
   "codemirror_mode": {
    "name": "ipython",
    "version": 3
   },
   "file_extension": ".py",
   "mimetype": "text/x-python",
   "name": "python",
   "nbconvert_exporter": "python",
   "pygments_lexer": "ipython3",
   "version": "3.10.9"
  }
 },
 "nbformat": 4,
 "nbformat_minor": 5
}
